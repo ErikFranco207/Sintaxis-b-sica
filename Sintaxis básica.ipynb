{
 "cells": [
  {
   "cell_type": "code",
   "execution_count": 1,
   "metadata": {},
   "outputs": [
    {
     "data": {
      "text/plain": [
       "int"
      ]
     },
     "execution_count": 1,
     "metadata": {},
     "output_type": "execute_result"
    }
   ],
   "source": [
    "nombre =5\n",
    "type(nombre)\n",
    "Entero#"
   ]
  },
  {
   "cell_type": "code",
   "execution_count": 2,
   "metadata": {},
   "outputs": [
    {
     "data": {
      "text/plain": [
       "str"
      ]
     },
     "execution_count": 2,
     "metadata": {},
     "output_type": "execute_result"
    }
   ],
   "source": [
    "nombre = \"Erik\"\n",
    "type(nombre)\n",
    "#texto"
   ]
  },
  {
   "cell_type": "code",
   "execution_count": 4,
   "metadata": {},
   "outputs": [
    {
     "data": {
      "text/plain": [
       "float"
      ]
     },
     "execution_count": 4,
     "metadata": {},
     "output_type": "execute_result"
    }
   ],
   "source": [
    "nombre= 5.2\n",
    "type(nombre)\n",
    "#Decimal"
   ]
  },
  {
   "cell_type": "code",
   "execution_count": 6,
   "metadata": {},
   "outputs": [
    {
     "name": "stdout",
     "output_type": "stream",
     "text": [
      " Esto es un mensaje\n"
     ]
    }
   ],
   "source": [
    "nombre = \"\"\" Esto es un mensaje\"\"\"\n",
    "print(nombre)"
   ]
  },
  {
   "cell_type": "code",
   "execution_count": 8,
   "metadata": {},
   "outputs": [
    {
     "name": "stdout",
     "output_type": "stream",
     "text": [
      "El numero 1 es mayor\n"
     ]
    }
   ],
   "source": [
    "numero1 = 5\n",
    "numero2 = 4\n",
    "if numero1>numero2:\n",
    "    print(\"El numero 1 es mayor\")\n",
    "else: \n",
    "    print(\"El número 2 es mayor\")"
   ]
  },
  {
   "cell_type": "code",
   "execution_count": 9,
   "metadata": {},
   "outputs": [
    {
     "name": "stdout",
     "output_type": "stream",
     "text": [
      "erik\n",
      "Rodríguez\n",
      "Franco\n"
     ]
    }
   ],
   "source": [
    "#Declaración\n",
    "def mensaje():\n",
    "#Cuerpo de la función\n",
    "    print(\"erik\")\n",
    "    print(\"Rodríguez\")\n",
    "    print(\"Franco\")\n",
    "#Lammada a la función\n",
    "mensaje()\n",
    "#Se puede llamar multiples veces"
   ]
  },
  {
   "cell_type": "code",
   "execution_count": 11,
   "metadata": {},
   "outputs": [
    {
     "name": "stdout",
     "output_type": "stream",
     "text": [
      "12\n"
     ]
    }
   ],
   "source": [
    "def suma():\n",
    "    num1 = 5\n",
    "    num2 = 7\n",
    "    print(num1+num2)\n",
    "suma()"
   ]
  },
  {
   "cell_type": "code",
   "execution_count": 12,
   "metadata": {},
   "outputs": [
    {
     "name": "stdout",
     "output_type": "stream",
     "text": [
      "12\n",
      "17\n",
      "30\n"
     ]
    }
   ],
   "source": [
    "#Reutilizar la función\n",
    "def suma(num1, num2):\n",
    "    \n",
    "    print(num1+num2)\n",
    "    \n",
    "suma(5, 7)\n",
    "suma(10, 7)\n",
    "suma(15, 15)"
   ]
  },
  {
   "cell_type": "code",
   "execution_count": 15,
   "metadata": {},
   "outputs": [
    {
     "name": "stdout",
     "output_type": "stream",
     "text": [
      "['maria', 'Pepe', 'Marta', 'Antonio']\n"
     ]
    }
   ],
   "source": [
    "milista = [\"maria\", \"Pepe\", \"Marta\", \"Antonio\"]\n",
    "print(milista)"
   ]
  },
  {
   "cell_type": "code",
   "execution_count": 16,
   "metadata": {},
   "outputs": [
    {
     "name": "stdout",
     "output_type": "stream",
     "text": [
      "Antonio\n"
     ]
    }
   ],
   "source": [
    "milista = [\"maria\", \"Pepe\", \"Marta\", \"Antonio\"]\n",
    "print(milista[3])"
   ]
  },
  {
   "cell_type": "code",
   "execution_count": 17,
   "metadata": {},
   "outputs": [
    {
     "name": "stdout",
     "output_type": "stream",
     "text": [
      "Pepe\n"
     ]
    }
   ],
   "source": [
    "milista = [\"maria\", \"Pepe\", \"Marta\", \"Antonio\"]\n",
    "print(milista[-3])"
   ]
  },
  {
   "cell_type": "code",
   "execution_count": 18,
   "metadata": {},
   "outputs": [
    {
     "name": "stdout",
     "output_type": "stream",
     "text": [
      "['maria', 'Pepe', 'Marta']\n"
     ]
    }
   ],
   "source": [
    "milista = [\"maria\", \"Pepe\", \"Marta\", \"Antonio\"]\n",
    "print(milista[0:3])\n",
    "#Porciones"
   ]
  },
  {
   "cell_type": "code",
   "execution_count": 19,
   "metadata": {},
   "outputs": [
    {
     "name": "stdout",
     "output_type": "stream",
     "text": [
      "['maria', 'Pepe', 'Marta', 'Antonio', 'Sandra']\n"
     ]
    }
   ],
   "source": [
    "milista = [\"maria\", \"Pepe\", \"Marta\", \"Antonio\"]\n",
    "milista.append(\"Sandra\")\n",
    "print(milista[:])\n",
    "#append agrega el elemento al final"
   ]
  },
  {
   "cell_type": "code",
   "execution_count": 20,
   "metadata": {},
   "outputs": [
    {
     "name": "stdout",
     "output_type": "stream",
     "text": [
      "['maria', 'Sandra', 'Pepe', 'Marta', 'Antonio']\n"
     ]
    }
   ],
   "source": [
    "milista = [\"maria\", \"Pepe\", \"Marta\", \"Antonio\"]\n",
    "milista.insert(1,\"Sandra\")\n",
    "print(milista[:])\n",
    "#insert agrega el elemento en la posición indicada"
   ]
  },
  {
   "cell_type": "code",
   "execution_count": 21,
   "metadata": {},
   "outputs": [
    {
     "name": "stdout",
     "output_type": "stream",
     "text": [
      "['maria', 'Pepe', 'Marta', 'Antonio', 'Sandra', 'Erik', 'Franco']\n"
     ]
    }
   ],
   "source": [
    "milista = [\"maria\", \"Pepe\", \"Marta\", \"Antonio\"]\n",
    "milista.extend([\"Sandra\", \"Erik\", \"Franco\"])\n",
    "print(milista[:])\n",
    "#extend concatena otra lista con la lista inicial"
   ]
  },
  {
   "cell_type": "code",
   "execution_count": 22,
   "metadata": {},
   "outputs": [
    {
     "name": "stdout",
     "output_type": "stream",
     "text": [
      "4\n"
     ]
    }
   ],
   "source": [
    "milista = [\"maria\", \"Pepe\", \"Marta\", \"Antonio\"]\n",
    "milista.extend([\"Sandra\", \"Erik\", \"Franco\"])\n",
    "print(milista.index(\"Sandra\"))\n",
    "#extend concatena otra lista con la lista inicial\n",
    "#index te devuelve el indice de donde se encuenta el elemento"
   ]
  },
  {
   "cell_type": "code",
   "execution_count": 23,
   "metadata": {},
   "outputs": [
    {
     "name": "stdout",
     "output_type": "stream",
     "text": [
      "True\n"
     ]
    }
   ],
   "source": [
    "milista = [\"maria\", \"Pepe\", \"Marta\", \"Antonio\"]\n",
    "milista.extend([\"Sandra\", \"Erik\", \"Franco\"])\n",
    "print(\"Sandra\" in milista)\n",
    "#extend concatena otra lista con la lista inicial\n",
    "#index te devuelve el indice de donde se encuenta el elemento\n",
    "#in busca si se encuentra el dato dentro de la lista"
   ]
  },
  {
   "cell_type": "code",
   "execution_count": 43,
   "metadata": {},
   "outputs": [
    {
     "name": "stdout",
     "output_type": "stream",
     "text": [
      "['maria', '5', 'True', '78.35', 'Erik', 'Franco']\n"
     ]
    }
   ],
   "source": [
    "miLista = [\"maria\", 5, True, 78.35]\n",
    "\n",
    "miLista.extend([\"Sandra\", \"Erik\", \"Franco\"])\n",
    "\n",
    "miLista.remove(\"Sandra\")\n",
    "\n",
    "print(miLista[:])\n",
    "# .remove elimina el elemento"
   ]
  },
  {
   "cell_type": "code",
   "execution_count": 47,
   "metadata": {},
   "outputs": [
    {
     "name": "stdout",
     "output_type": "stream",
     "text": [
      "['maria', 5, True, 78.35, 'Sandra', 'Erik', 'Franco']\n"
     ]
    }
   ],
   "source": [
    "milista1 = [\"maria\", 5, True, 78.35]\n",
    "milista2 = [\"Sandra\", \"Erik\", \"Franco\"]\n",
    "milista3 = milista1+milista2\n",
    "print(milista3)"
   ]
  },
  {
   "cell_type": "markdown",
   "metadata": {},
   "source": [
    "# Tuplas"
   ]
  },
  {
   "cell_type": "code",
   "execution_count": 48,
   "metadata": {},
   "outputs": [
    {
     "name": "stdout",
     "output_type": "stream",
     "text": [
      "1\n"
     ]
    }
   ],
   "source": [
    "mitupla = (\"Juan\", 13, 1, 1995)\n",
    "print(mitupla[2])"
   ]
  },
  {
   "cell_type": "code",
   "execution_count": 50,
   "metadata": {},
   "outputs": [
    {
     "name": "stdout",
     "output_type": "stream",
     "text": [
      "['Juan', 13, 1, 1995]\n"
     ]
    }
   ],
   "source": [
    "mitupla = (\"Juan\", 13, 1, 1995)\n",
    "milista=list(mitupla)\n",
    "print(milista)\n",
    "#convierte la tupla en una lista"
   ]
  },
  {
   "cell_type": "code",
   "execution_count": 52,
   "metadata": {},
   "outputs": [
    {
     "name": "stdout",
     "output_type": "stream",
     "text": [
      "('Juan', 13, 1, 1995)\n"
     ]
    }
   ],
   "source": [
    "mitupla = [\"Juan\", 13, 1, 1995]\n",
    "milista=tuple(mitupla)\n",
    "print(milista)\n",
    "# tuple convierte la lista en una tupla"
   ]
  },
  {
   "cell_type": "code",
   "execution_count": 56,
   "metadata": {},
   "outputs": [
    {
     "name": "stdout",
     "output_type": "stream",
     "text": [
      "2\n"
     ]
    }
   ],
   "source": [
    "milista = [\"Juan\", 13, 1, 1995, 1995]\n",
    "mitupla=tuple(milista)\n",
    "print(mitupla.count(1995))\n",
    "# count cuenta cuantas veces se encuentra el elemento"
   ]
  },
  {
   "cell_type": "code",
   "execution_count": 59,
   "metadata": {},
   "outputs": [
    {
     "name": "stdout",
     "output_type": "stream",
     "text": [
      "5\n"
     ]
    }
   ],
   "source": [
    "milista = [\"Juan\", 13, 1, 1995, 1995]\n",
    "mitupla=tuple(milista)\n",
    "print(len(mitupla))\n",
    "# len determina la longitud de una tupla"
   ]
  },
  {
   "cell_type": "markdown",
   "metadata": {},
   "source": [
    "# Diccionario"
   ]
  },
  {
   "cell_type": "code",
   "execution_count": 1,
   "metadata": {},
   "outputs": [
    {
     "name": "stdout",
     "output_type": "stream",
     "text": [
      "Paris\n"
     ]
    }
   ],
   "source": [
    "midiccionario = {\"Alemania\":\"Berlin\",\"Francia\":\"Paris\", \"Reino Unido\":\"Londres\", \"España\":\"Madrid\"}\n",
    "print(midiccionario[\"Francia\"])"
   ]
  },
  {
   "cell_type": "code",
   "execution_count": 7,
   "metadata": {},
   "outputs": [
    {
     "name": "stdout",
     "output_type": "stream",
     "text": [
      "{'Alemania': 'Berlin', 'Francia': 'Paris', 'Reino Unido': 'Londres', 'España': 'Madrid', 'Italia': 'Lisboa'}\n",
      "{'Alemania': 'Berlin', 'Francia': 'Paris', 'Reino Unido': 'Londres', 'España': 'Madrid', 'Italia': 'Roma'}\n",
      "{'Alemania': 'Berlin', 'Francia': 'Paris', 'España': 'Madrid', 'Italia': 'Roma'}\n"
     ]
    }
   ],
   "source": [
    "midiccionario = {\"Alemania\":\"Berlin\",\"Francia\":\"Paris\", \"Reino Unido\":\"Londres\", \"España\":\"Madrid\"}\n",
    "midiccionario[\"Italia\"]=\"Lisboa\"\n",
    "print(midiccionario)\n",
    "midiccionario[\"Italia\"]=\"Roma\"\n",
    "print(midiccionario)\n",
    "del midiccionario[\"Reino Unido\"]\n",
    "print (midiccionario)"
   ]
  },
  {
   "cell_type": "code",
   "execution_count": 10,
   "metadata": {},
   "outputs": [
    {
     "name": "stdout",
     "output_type": "stream",
     "text": [
      "Londres\n"
     ]
    }
   ],
   "source": [
    "mitupla=[\"España\", \"Francia\", \"Reino Unido\", \"Alemania\"]\n",
    "midiccionario={mitupla[0]:\"Madrid\", mitupla[1]: \"Paris\", mitupla[2]: \"Londres\"}\n",
    "print(midiccionario[\"Reino Unido\"])"
   ]
  },
  {
   "cell_type": "code",
   "execution_count": 11,
   "metadata": {},
   "outputs": [
    {
     "name": "stdout",
     "output_type": "stream",
     "text": [
      "dict_keys(['Alemania', 'Francia', 'Reino Unido', 'España'])\n"
     ]
    }
   ],
   "source": [
    "midiccionario = {\"Alemania\":\"Berlin\",\"Francia\":\"Paris\", \"Reino Unido\":\"Londres\", \"España\":\"Madrid\"}\n",
    "print(midiccionario.keys())"
   ]
  },
  {
   "cell_type": "code",
   "execution_count": 12,
   "metadata": {},
   "outputs": [
    {
     "name": "stdout",
     "output_type": "stream",
     "text": [
      "dict_values(['Berlin', 'Paris', 'Londres', 'Madrid'])\n"
     ]
    }
   ],
   "source": [
    "print(midiccionario.values())"
   ]
  },
  {
   "cell_type": "code",
   "execution_count": 13,
   "metadata": {},
   "outputs": [
    {
     "name": "stdout",
     "output_type": "stream",
     "text": [
      "4\n"
     ]
    }
   ],
   "source": [
    "print(len(midiccionario))"
   ]
  },
  {
   "cell_type": "code",
   "execution_count": null,
   "metadata": {},
   "outputs": [],
   "source": []
  }
 ],
 "metadata": {
  "kernelspec": {
   "display_name": "Python 3",
   "language": "python",
   "name": "python3"
  },
  "language_info": {
   "codemirror_mode": {
    "name": "ipython",
    "version": 3
   },
   "file_extension": ".py",
   "mimetype": "text/x-python",
   "name": "python",
   "nbconvert_exporter": "python",
   "pygments_lexer": "ipython3",
   "version": "3.8.5"
  }
 },
 "nbformat": 4,
 "nbformat_minor": 4
}
